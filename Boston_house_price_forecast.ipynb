{
  "nbformat": 4,
  "nbformat_minor": 0,
  "metadata": {
    "colab": {
      "provenance": [],
      "mount_file_id": "1q5EsO_XfCWYna35TURwnlhU9seawMYfB",
      "authorship_tag": "ABX9TyOdal1jsFjP5lM6wUrdQSul",
      "include_colab_link": true
    },
    "kernelspec": {
      "name": "python3",
      "display_name": "Python 3"
    },
    "language_info": {
      "name": "python"
    }
  },
  "cells": [
    {
      "cell_type": "markdown",
      "metadata": {
        "id": "view-in-github",
        "colab_type": "text"
      },
      "source": [
        "<a href=\"https://colab.research.google.com/github/EauClaire1/MachineLearning/blob/main/Boston_house_price_forecast.ipynb\" target=\"_parent\"><img src=\"https://colab.research.google.com/assets/colab-badge.svg\" alt=\"Open In Colab\"/></a>"
      ]
    },
    {
      "cell_type": "code",
      "source": [
        "import numpy as np\n",
        "import pandas as pd\n",
        "import re"
      ],
      "metadata": {
        "id": "mJNtYHQo7iO1"
      },
      "execution_count": 2,
      "outputs": []
    },
    {
      "cell_type": "code",
      "source": [
        "def load_boston_house_data():\n",
        "   print(\"加载数据\")\n",
        "   data = []\n",
        "   ff = open(\"/content/drive/MyDrive/Boston_house_train/housing.data.txt\").readlines()\n",
        "   for items in ff:\n",
        "       out = re.sub(r\"\\s{2,}\", \" \", items).strip()\n",
        "       print(out)\n",
        "       data.append(out.split(\" \"))\n",
        "   data = np.array(data).astype(np.float64)   # 将数据进行类型转换为float\n",
        "   print('data.shape={}, data[0]={}, data[0].shape={}'.format(data.shape,data[0],data[0].shape))\n",
        "   ratio = 0.8;\n",
        "   offset = int(ratio * data.shape[0])\n",
        "   train_data = data[:offset]\n",
        "   test_data = data[offset:]\n",
        "   print('train_data.shape={},test_data.shape={}'.format(train_data.shape,test_data.shape))\n",
        "   return train_data,test_data\n",
        "\n",
        "\n",
        "\n",
        "if __name__ == '__main__':\n",
        "   train_data,test_data = load_boston_house_data()\n",
        "   x = train_data[:,:-1]\n",
        "   y = test_data[:,-1:]\n",
        "   print('x.shape={},x[0]={}'.format(x.shape,x[0]))\n",
        "   print('y.shape={},y[0]={}'.format(y.shape,y[0]))\n",
        ""
      ],
      "metadata": {
        "id": "nQHSnTQE70Gl"
      },
      "execution_count": null,
      "outputs": []
    },
    {
      "cell_type": "code",
      "source": [
        "w = [0.1,0.2,0.3,-0.6,0.8,0.1,0.2,0.35,0.6,0.12,0.13,0.4,0.15]\n",
        "w = np.array(w).reshape([13,1])"
      ],
      "metadata": {
        "id": "HpSx08I1DVoS"
      },
      "execution_count": 3,
      "outputs": []
    },
    {
      "cell_type": "code",
      "source": [
        "if __name__ == '__main__':\n",
        "  train_data,test_data = load_boston_house_data()\n",
        "  x = train_data[:,:-1]\n",
        "  y = test_data[:,-1:]\n",
        "  print('x.shape={},x[0]='.format(x.shape),x[0])\n",
        "  print('y.shape={},y[0]='.format(y.shape),y[0])\n",
        "\n",
        "  x0 = x[0]\n",
        "  w0 = [0.1,0.2,0.3,-0.6,0.8,0.1,0.2,0.35,0.6,0.12,0.13,0.4,0.15]\n",
        "  w0 = np.array(w).reshape([13,1])\n",
        "  print(\"w0={}\".format(w0))\n",
        "  b = 2\n",
        "  z = np.dot(x[0],w0) + b\n",
        "  print(\"z={}\".format(z))\n"
      ],
      "metadata": {
        "id": "gZqfbnTkLoEN"
      },
      "execution_count": null,
      "outputs": []
    },
    {
      "cell_type": "code",
      "source": [
        "# 随机产生w的初始值 为了保持程序每次运行结果的一致性，此处设置固定的随机数种子\n",
        "class Network():\n",
        "  def _init_(self,num_of_weights):\n",
        "    np.random.seed(0)\n",
        "    self.w = np.random.randn.(num_of_weights,1)\n",
        "    print(\"w={}\".format(w))\n",
        "    self.b = 2\n",
        "\n",
        "\n",
        "  def forward(self,x):\n",
        "    z = np.dot(x,self.w) + self.b\n",
        "    return z\n",
        "\n",
        "if _name_ == '_main_':\n",
        "  train_data,test_data = load_boston_house_data()\n",
        "  x = train_data[:,:-1]\n",
        "  y = test_data[:,-1:]\n",
        "  x0 = x[0]\n",
        ""
      ],
      "metadata": {
        "id": "G03oHnyEPvmf"
      },
      "execution_count": null,
      "outputs": []
    }
  ]
}